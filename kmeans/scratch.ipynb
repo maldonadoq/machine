{
 "cells": [
  {
   "cell_type": "code",
   "execution_count": 1,
   "metadata": {},
   "outputs": [],
   "source": [
    "import matplotlib.pyplot as plt\n",
    "from itertools import cycle\n",
    "import numpy as np"
   ]
  },
  {
   "cell_type": "code",
   "execution_count": 2,
   "metadata": {},
   "outputs": [],
   "source": [
    "d = 2\n",
    "n = 50\n",
    "h = int(n/2)\n",
    "\n",
    "x= -2 * np.random.rand(n,d)\n",
    "xt = 1 + 2 * np.random.rand(h,d)\n",
    "\n",
    "x[h:n, :] = xt"
   ]
  },
  {
   "cell_type": "code",
   "execution_count": 3,
   "metadata": {},
   "outputs": [
    {
     "data": {
      "image/png": "[encoded data removed]",
      "text/plain": [
       "<Figure size 432x288 with 1 Axes>"
      ]
     },
     "metadata": {
      "needs_background": "light"
     },
     "output_type": "display_data"
    }
   ],
   "source": [
    "plt.scatter(x[:,0], x[:, 1], c = 'skyblue')\n",
    "plt.show()"
   ]
  },
  {
   "cell_type": "code",
   "execution_count": 4,
   "metadata": {},
   "outputs": [],
   "source": [
    "class Kmeans:\n",
    "    \n",
    "    def init(self):\n",
    "        r = np.random.rand(self.k, self.dim)\n",
    "        c = np.zeros((self.k, self.dim))\n",
    "        \n",
    "        for i in range(self.dim):\n",
    "            m = x[:,i].min()\n",
    "            l = (x[:,i].max() - m)\n",
    "            c[:,i] = m + (r[:,i] * l)\n",
    "            \n",
    "        return c\n",
    "    \n",
    "    def cluster(self):\n",
    "        cl = []\n",
    "        for j in range(self.k):\n",
    "            cl.append([])\n",
    "        return cl\n",
    "    \n",
    "    def distance(self, x1, x2):\n",
    "        s = 0\n",
    "        for i in range(self.dim):\n",
    "            s += np.power(x1[i]-x2[i], 2)\n",
    "            \n",
    "        return np.sqrt(s)\n",
    "    \n",
    "    def means(self):\n",
    "        for i in range(len(self.clt)):\n",
    "            tmp = np.asarray(self.clt[i])\n",
    "            \n",
    "            if(tmp.shape[0] > 0):            \n",
    "                for j in range(self.dim):\n",
    "                    self.cent[i,j] = tmp[:,j].mean()\n",
    "            else:\n",
    "                self.cent[i] = np.zeros(self.dim)\n",
    "    \n",
    "    def fit(self, x, k, epochs):\n",
    "        self.dim = x.shape[1]\n",
    "        self.k = k\n",
    "        \n",
    "        self.cent = self.init()\n",
    "        cd = np.zeros(self.k)\n",
    "        \n",
    "        for i in range(epochs):\n",
    "            self.clt = self.cluster()\n",
    "            for xp in x:\n",
    "                for t in range(len(self.cent)):\n",
    "                    cd[t] = self.distance(xp, self.cent[t])\n",
    "                cm = np.argmin(cd)\n",
    "                \n",
    "                self.clt[cm].append(xp)\n",
    "                \n",
    "            self.means()\n",
    "            \n",
    "        return (self.cent, self.clt)"
   ]
  },
  {
   "cell_type": "code",
   "execution_count": 5,
   "metadata": {},
   "outputs": [],
   "source": [
    "k = 2\n",
    "epochs = 10\n",
    "\n",
    "km = Kmeans()\n",
    "res = km.fit(x, k, epochs)"
   ]
  },
  {
   "cell_type": "code",
   "execution_count": 6,
   "metadata": {},
   "outputs": [
    {
     "data": {
      "image/png": "[encoded data removed]",
      "text/plain": [
       "<Figure size 432x288 with 1 Axes>"
      ]
     },
     "metadata": {
      "needs_background": "light"
     },
     "output_type": "display_data"
    }
   ],
   "source": [
    "plt.scatter(res[0][:,0], res[0][:,1], c='y')\n",
    "cycol = cycle('bgrcmk')\n",
    "\n",
    "for cl in res[1]:\n",
    "    tmp = np.asarray(cl)\n",
    "    if(tmp.shape[0] > 0):\n",
    "        plt.scatter(tmp[:,0], tmp[:,1], c=next(cycol))\n",
    "\n",
    "plt.show()"
   ]
  }
 ],
 "metadata": {
  "kernelspec": {
   "display_name": "Python 3",
   "language": "python",
   "name": "python3"
  },
  "language_info": {
   "codemirror_mode": {
    "name": "ipython",
    "version": 3
   },
   "file_extension": ".py",
   "mimetype": "text/x-python",
   "name": "python",
   "nbconvert_exporter": "python",
   "pygments_lexer": "ipython3",
   "version": "3.6.9"
  }
 },
 "nbformat": 4,
 "nbformat_minor": 2
}
