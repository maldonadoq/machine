{
 "cells": [
  {
   "cell_type": "code",
   "execution_count": 1,
   "metadata": {},
   "outputs": [],
   "source": [
    "from sklearn.model_selection import train_test_split\n",
    "from sklearn.preprocessing import OneHotEncoder\n",
    "\n",
    "import matplotlib.pyplot as plt\n",
    "import numpy as np\n",
    "import pandas as pd\n",
    "\n",
    "import torch\n",
    "from torch.autograd import Variable"
   ]
  },
  {
   "cell_type": "code",
   "execution_count": 2,
   "metadata": {},
   "outputs": [],
   "source": [
    "# Read Data from CSV\n",
    "train = pd.read_csv('../data/mnist.csv', header=0).values\n",
    "x = train[:,1:] / 255.0\n",
    "y = train[:,0]\n",
    "\n",
    "# MNIST 10 Value\n",
    "enc = OneHotEncoder(categories='auto')\n",
    "y = enc.fit_transform(y.reshape(-1,1)).toarray()"
   ]
  },
  {
   "cell_type": "code",
   "execution_count": 3,
   "metadata": {},
   "outputs": [],
   "source": [
    "# Split Data\n",
    "x_train, x_test, y_train, y_test = train_test_split(x, y, test_size=0.3, random_state=0)"
   ]
  },
  {
   "cell_type": "code",
   "execution_count": 4,
   "metadata": {},
   "outputs": [
    {
     "name": "stdout",
     "output_type": "stream",
     "text": [
      "torch.Size([29400, 784])\n",
      "29400\n"
     ]
    }
   ],
   "source": [
    "# Training Data Tensor\n",
    "xt = Variable(torch.from_numpy(x_train), requires_grad=False).type(torch.FloatTensor)\n",
    "yt = Variable(torch.from_numpy(y_train), requires_grad=False).type(torch.FloatTensor)\n",
    "\n",
    "# Test Data tensor\n",
    "xtest = Variable(torch.from_numpy(x_test), requires_grad=False).type(torch.FloatTensor)\n",
    "\n",
    "print(xt.shape)\n",
    "print(xt.size()[0])"
   ]
  },
  {
   "cell_type": "code",
   "execution_count": 5,
   "metadata": {},
   "outputs": [],
   "source": [
    "# Neural Network Dimensions\n",
    "\n",
    "input_dim = x_train.shape[1]\n",
    "hid1_dim = 512\n",
    "hid2_dim = 512\n",
    "hid3_dim = 100\n",
    "output_dim = 10\n",
    "\n",
    "# Batch size\n",
    "batch = 128"
   ]
  },
  {
   "cell_type": "code",
   "execution_count": 6,
   "metadata": {},
   "outputs": [
    {
     "name": "stdout",
     "output_type": "stream",
     "text": [
      "Sequential(\n",
      "  (0): Linear(in_features=784, out_features=512, bias=True)\n",
      "  (1): ReLU()\n",
      "  (2): Linear(in_features=512, out_features=512, bias=True)\n",
      "  (3): ReLU()\n",
      "  (4): Linear(in_features=512, out_features=100, bias=True)\n",
      "  (5): ReLU()\n",
      "  (6): Linear(in_features=100, out_features=10, bias=True)\n",
      ")\n"
     ]
    }
   ],
   "source": [
    "# Model with Torch\n",
    "model = torch.nn.Sequential(\n",
    "    torch.nn.Linear(input_dim, hid1_dim),\n",
    "    torch.nn.ReLU(),\n",
    "    torch.nn.Linear(hid1_dim, hid2_dim),\n",
    "    torch.nn.ReLU(),\n",
    "    torch.nn.Linear(hid2_dim, hid3_dim),\n",
    "    torch.nn.ReLU(),\n",
    "    torch.nn.Linear(hid3_dim, output_dim)\n",
    ")\n",
    "print(model)"
   ]
  },
  {
   "cell_type": "code",
   "execution_count": 7,
   "metadata": {},
   "outputs": [
    {
     "name": "stdout",
     "output_type": "stream",
     "text": [
      "SGD (\n",
      "Parameter Group 0\n",
      "    dampening: 0\n",
      "    lr: 1\n",
      "    momentum: 0\n",
      "    nesterov: False\n",
      "    weight_decay: 0\n",
      ")\n"
     ]
    }
   ],
   "source": [
    "# Loss Function\n",
    "mse = torch.nn.MSELoss()\n",
    "\n",
    "# Oprimization\n",
    "lr = 1\n",
    "optimizer = torch.optim.SGD(model.parameters(), lr)\n",
    "\n",
    "print(optimizer)"
   ]
  },
  {
   "cell_type": "code",
   "execution_count": 8,
   "metadata": {},
   "outputs": [
    {
     "name": "stdout",
     "output_type": "stream",
     "text": [
      "Epoch: 1, Loss: 11.206973, Accuracy: 0.889524\n",
      "Epoch: 2, Loss: 4.644040, Accuracy: 0.926190\n",
      "Epoch: 3, Loss: 3.317931, Accuracy: 0.941190\n",
      "Epoch: 4, Loss: 2.642761, Accuracy: 0.949365\n",
      "Epoch: 5, Loss: 2.197476, Accuracy: 0.956349\n",
      "Epoch: 6, Loss: 1.881144, Accuracy: 0.960159\n",
      "Epoch: 7, Loss: 1.643604, Accuracy: 0.963651\n",
      "Epoch: 8, Loss: 1.458246, Accuracy: 0.966825\n",
      "Epoch: 9, Loss: 1.306651, Accuracy: 0.968651\n",
      "Epoch: 10, Loss: 1.181226, Accuracy: 0.970794\n",
      "Epoch: 11, Loss: 1.075570, Accuracy: 0.972063\n",
      "Epoch: 12, Loss: 0.984499, Accuracy: 0.972937\n",
      "Epoch: 13, Loss: 0.905202, Accuracy: 0.973571\n",
      "Epoch: 14, Loss: 0.834752, Accuracy: 0.973889\n",
      "Epoch: 15, Loss: 0.771855, Accuracy: 0.974286\n",
      "Epoch: 16, Loss: 0.715492, Accuracy: 0.975159\n",
      "Epoch: 17, Loss: 0.664872, Accuracy: 0.975556\n",
      "Epoch: 18, Loss: 0.618906, Accuracy: 0.975873\n",
      "Epoch: 19, Loss: 0.577355, Accuracy: 0.976270\n",
      "Epoch: 20, Loss: 0.539144, Accuracy: 0.976905\n",
      "Epoch: 21, Loss: 0.504346, Accuracy: 0.976984\n",
      "Epoch: 22, Loss: 0.472165, Accuracy: 0.977381\n",
      "Epoch: 23, Loss: 0.442556, Accuracy: 0.977540\n",
      "Epoch: 24, Loss: 0.415943, Accuracy: 0.977698\n",
      "Epoch: 25, Loss: 0.391391, Accuracy: 0.977778\n",
      "Epoch: 26, Loss: 0.368840, Accuracy: 0.978095\n",
      "Epoch: 27, Loss: 0.348034, Accuracy: 0.978016\n",
      "Epoch: 28, Loss: 0.328866, Accuracy: 0.978254\n",
      "Epoch: 29, Loss: 0.311095, Accuracy: 0.978333\n",
      "Epoch: 30, Loss: 0.294540, Accuracy: 0.978730\n",
      "Epoch: 31, Loss: 0.279188, Accuracy: 0.978492\n",
      "Epoch: 32, Loss: 0.265009, Accuracy: 0.978651\n",
      "Epoch: 33, Loss: 0.252031, Accuracy: 0.978889\n",
      "Epoch: 34, Loss: 0.239679, Accuracy: 0.978889\n",
      "Epoch: 35, Loss: 0.228269, Accuracy: 0.978889\n",
      "Epoch: 36, Loss: 0.217576, Accuracy: 0.978889\n",
      "Epoch: 37, Loss: 0.207664, Accuracy: 0.978889\n",
      "Epoch: 38, Loss: 0.198377, Accuracy: 0.978968\n",
      "Epoch: 39, Loss: 0.189553, Accuracy: 0.978889\n",
      "Epoch: 40, Loss: 0.181222, Accuracy: 0.979048\n",
      "Epoch: 41, Loss: 0.173528, Accuracy: 0.979048\n",
      "Epoch: 42, Loss: 0.166334, Accuracy: 0.978968\n",
      "Epoch: 43, Loss: 0.159589, Accuracy: 0.978889\n",
      "Epoch: 44, Loss: 0.153303, Accuracy: 0.978889\n",
      "Epoch: 45, Loss: 0.147283, Accuracy: 0.978889\n",
      "Epoch: 46, Loss: 0.141638, Accuracy: 0.978968\n",
      "Epoch: 47, Loss: 0.136287, Accuracy: 0.979048\n",
      "Epoch: 48, Loss: 0.131391, Accuracy: 0.978968\n",
      "Epoch: 49, Loss: 0.126589, Accuracy: 0.979048\n",
      "Epoch: 50, Loss: 0.122175, Accuracy: 0.978968\n"
     ]
    }
   ],
   "source": [
    "# Training\n",
    "epoch = 50\n",
    "\n",
    "list_loss = []\n",
    "list_acc = []\n",
    "\n",
    "for ep in range(epoch):\n",
    "    eloss = 0\n",
    "    for i in range(0, xt.size()[0] , batch):\n",
    "        # Forward Pass\n",
    "        yp = model(xt[i:(i+batch), :])\n",
    "        ls = mse(yp, yt[i:(i+batch), :])\n",
    "\n",
    "        eloss += ls.item()\n",
    "\n",
    "        # Backward Pass\n",
    "        optimizer.zero_grad()\n",
    "        ls.backward()\n",
    "\n",
    "        # Update Weight\n",
    "        optimizer.step()\n",
    "    \n",
    "    # Test Accuracy\n",
    "    ytpred = model(xtest).data.numpy()\n",
    "    acc = np.sum(np.argmax(y_test, axis=1) == np.argmax(ytpred, axis=1)) / ytpred.shape[0]\n",
    "\n",
    "    print('Epoch: %d, Loss: %f, Accuracy: %f' % (ep + 1, eloss, acc))\n",
    "    list_loss.append(eloss)\n",
    "    list_acc.append(acc)"
   ]
  },
  {
   "cell_type": "code",
   "execution_count": 9,
   "metadata": {},
   "outputs": [
    {
     "data": {
      "image/png": "[encoded data removed]",
      "text/plain": [
       "<Figure size 864x360 with 1 Axes>"
      ]
     },
     "metadata": {
      "needs_background": "light"
     },
     "output_type": "display_data"
    },
    {
     "data": {
      "image/png": "[encoded data removed]",
      "text/plain": [
       "<Figure size 864x360 with 1 Axes>"
      ]
     },
     "metadata": {
      "needs_background": "light"
     },
     "output_type": "display_data"
    }
   ],
   "source": [
    "# Plot accuracy and loss\n",
    "fig = plt.figure(figsize=(12,5))\n",
    "plt.title('Accuracy Evolution')\n",
    "plt.plot(np.arange(epoch), list_acc, color='green')\n",
    "plt.show()\n",
    "\n",
    "fig = plt.figure(figsize=(12,5))\n",
    "plt.title('Loss Evolution')\n",
    "plt.plot(np.arange(epoch), list_loss, color='red')\n",
    "plt.show()"
   ]
  }
 ],
 "metadata": {
  "file_extension": ".py",
  "kernelspec": {
   "display_name": "Python 3",
   "language": "python",
   "name": "python3"
  },
  "language_info": {
   "codemirror_mode": {
    "name": "ipython",
    "version": 3
   },
   "file_extension": ".py",
   "mimetype": "text/x-python",
   "name": "python",
   "nbconvert_exporter": "python",
   "pygments_lexer": "ipython3",
   "version": "3.6.9"
  },
  "mimetype": "text/x-python",
  "name": "python",
  "npconvert_exporter": "python",
  "pygments_lexer": "ipython3",
  "version": 3
 },
 "nbformat": 4,
 "nbformat_minor": 2
}
