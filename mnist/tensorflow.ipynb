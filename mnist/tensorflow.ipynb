{
 "cells": [
  {
   "cell_type": "code",
   "execution_count": 2,
   "metadata": {},
   "outputs": [],
   "source": [
    "import tensorflow as tf\n",
    "import matplotlib.pyplot as plt\n",
    "import numpy as np\n",
    "import pandas as pd\n",
    "\n",
    "from tensorflow.examples.tutorials.mnist import input_data"
   ]
  },
  {
   "cell_type": "code",
   "execution_count": 4,
   "metadata": {},
   "outputs": [
    {
     "name": "stdout",
     "output_type": "stream",
     "text": [
      "Extracting /tmp/data/train-images-idx3-ubyte.gz\n",
      "Extracting /tmp/data/train-labels-idx1-ubyte.gz\n",
      "Extracting /tmp/data/t10k-images-idx3-ubyte.gz\n",
      "Extracting /tmp/data/t10k-labels-idx1-ubyte.gz\n"
     ]
    }
   ],
   "source": [
    "# MNIST 10 Value\n",
    "mnist = input_data.read_data_sets(\"/tmp/data/\", one_hot=True)"
   ]
  },
  {
   "cell_type": "code",
   "execution_count": 5,
   "metadata": {},
   "outputs": [],
   "source": [
    "# Network Parameters\n",
    "input_dim = 784   #(img shape: 28*28)\n",
    "hid1_dim = 256\n",
    "hid2_dim = 256\n",
    "hid3_dim = 100\n",
    "output_dim = 10\n",
    "\n",
    "# tf Graph input\n",
    "x = tf.placeholder(\"float\", [None, input_dim])\n",
    "y = tf.placeholder(\"float\", [None, output_dim])"
   ]
  },
  {
   "cell_type": "code",
   "execution_count": 6,
   "metadata": {},
   "outputs": [
    {
     "name": "stdout",
     "output_type": "stream",
     "text": [
      "WARNING:tensorflow:From /usr/lib/python3.7/site-packages/tensorflow/python/framework/op_def_library.py:263: colocate_with (from tensorflow.python.framework.ops) is deprecated and will be removed in a future version.\n",
      "Instructions for updating:\n",
      "Colocations handled automatically by placer.\n"
     ]
    }
   ],
   "source": [
    "# Store layers weight & bias in Dictionary\n",
    "weights = {\n",
    "    'h1': tf.Variable(tf.random_normal([input_dim, hid1_dim])),\n",
    "    'h2': tf.Variable(tf.random_normal([hid1_dim, hid2_dim])),\n",
    "    'h3': tf.Variable(tf.random_normal([hid2_dim, hid3_dim])),\n",
    "    'out': tf.Variable(tf.random_normal([hid3_dim, output_dim]))\n",
    "}\n",
    "biases = {\n",
    "    'b1': tf.Variable(tf.random_normal([hid1_dim])),\n",
    "    'b2': tf.Variable(tf.random_normal([hid2_dim])),\n",
    "    'b3': tf.Variable(tf.random_normal([hid3_dim])),\n",
    "    'out': tf.Variable(tf.random_normal([output_dim]))\n",
    "}"
   ]
  },
  {
   "cell_type": "code",
   "execution_count": 7,
   "metadata": {},
   "outputs": [
    {
     "name": "stdout",
     "output_type": "stream",
     "text": [
      "Tensor(\"Add_3:0\", shape=(?, 10), dtype=float32)\n"
     ]
    }
   ],
   "source": [
    "# Model\n",
    "layer1 = tf.add(tf.matmul(x, weights['h1']), biases['b1'])\n",
    "layer2 = tf.add(tf.matmul(layer1, weights['h2']), biases['b2'])\n",
    "layer3 = tf.add(tf.matmul(layer2, weights['h3']), biases['b3'])\n",
    "res = tf.add(tf.matmul(layer3, weights['out']), biases['out'])\n",
    "\n",
    "print(res)"
   ]
  },
  {
   "cell_type": "code",
   "execution_count": 19,
   "metadata": {},
   "outputs": [],
   "source": [
    "# Hyper Parameters\n",
    "lr = 0.05\n",
    "epoch = 5000\n",
    "batch = 128\n",
    "display = 10\n",
    "\n",
    "# Define loss and optimizer\n",
    "loss_op = tf.reduce_mean(tf.nn.softmax_cross_entropy_with_logits(logits=res, labels=y))\n",
    "optimizer = tf.train.AdamOptimizer(learning_rate=lr)\n",
    "train_op = optimizer.minimize(loss_op)\n",
    "\n",
    "# Evaluate Model  (cy = correct y)\n",
    "cy = tf.equal(tf.math.argmax(res,1), tf.math.argmax(y,1))\n",
    "accuracy = tf.reduce_mean(tf.cast(cy, tf.float32))\n",
    "\n",
    "# Initialize the Variables\n",
    "init = tf.global_variables_initializer()"
   ]
  },
  {
   "cell_type": "code",
   "execution_count": 20,
   "metadata": {},
   "outputs": [
    {
     "name": "stdout",
     "output_type": "stream",
     "text": [
      "Epoch: 0, Loss: 19857.369141, Accuracy: 0.343750\n",
      "Epoch: 50, Loss: 1931.929199, Accuracy: 0.906250\n",
      "Epoch: 100, Loss: 1227.415161, Accuracy: 0.882812\n",
      "Epoch: 150, Loss: 1436.824219, Accuracy: 0.851562\n",
      "Epoch: 200, Loss: 596.379456, Accuracy: 0.914062\n",
      "Epoch: 250, Loss: 1315.811035, Accuracy: 0.835938\n",
      "Epoch: 300, Loss: 771.650513, Accuracy: 0.882812\n",
      "Epoch: 350, Loss: 723.538940, Accuracy: 0.898438\n",
      "Epoch: 400, Loss: 223.737839, Accuracy: 0.960938\n",
      "Epoch: 450, Loss: 309.574890, Accuracy: 0.890625\n",
      "Epoch: 500, Loss: 462.664185, Accuracy: 0.867188\n",
      "Epoch: 550, Loss: 490.632019, Accuracy: 0.875000\n",
      "Epoch: 600, Loss: 467.812317, Accuracy: 0.867188\n",
      "Epoch: 650, Loss: 307.158661, Accuracy: 0.882812\n",
      "Epoch: 700, Loss: 308.122192, Accuracy: 0.875000\n",
      "Epoch: 750, Loss: 178.030762, Accuracy: 0.921875\n",
      "Epoch: 800, Loss: 537.216309, Accuracy: 0.828125\n",
      "Epoch: 850, Loss: 82.057388, Accuracy: 0.937500\n",
      "Epoch: 900, Loss: 196.225021, Accuracy: 0.914062\n",
      "Epoch: 950, Loss: 370.718079, Accuracy: 0.851562\n",
      "Epoch: 1000, Loss: 160.605103, Accuracy: 0.906250\n",
      "Epoch: 1050, Loss: 165.152603, Accuracy: 0.914062\n",
      "Epoch: 1100, Loss: 268.392914, Accuracy: 0.914062\n",
      "Epoch: 1150, Loss: 390.698853, Accuracy: 0.875000\n",
      "Epoch: 1200, Loss: 214.387726, Accuracy: 0.851562\n",
      "Epoch: 1250, Loss: 210.714859, Accuracy: 0.898438\n",
      "Epoch: 1300, Loss: 227.140976, Accuracy: 0.875000\n",
      "Epoch: 1350, Loss: 19.238071, Accuracy: 0.953125\n",
      "Epoch: 1400, Loss: 306.734711, Accuracy: 0.859375\n",
      "Epoch: 1450, Loss: 212.359528, Accuracy: 0.890625\n",
      "Epoch: 1500, Loss: 112.543518, Accuracy: 0.914062\n",
      "Epoch: 1550, Loss: 134.096115, Accuracy: 0.890625\n",
      "Epoch: 1600, Loss: 241.288605, Accuracy: 0.835938\n",
      "Epoch: 1650, Loss: 205.198807, Accuracy: 0.867188\n",
      "Epoch: 1700, Loss: 69.294189, Accuracy: 0.906250\n",
      "Epoch: 1750, Loss: 273.364502, Accuracy: 0.835938\n",
      "Epoch: 1800, Loss: 232.025330, Accuracy: 0.906250\n",
      "Epoch: 1850, Loss: 184.220016, Accuracy: 0.890625\n",
      "Epoch: 1900, Loss: 82.245018, Accuracy: 0.921875\n",
      "Epoch: 1950, Loss: 65.434128, Accuracy: 0.914062\n",
      "Epoch: 2000, Loss: 133.537323, Accuracy: 0.867188\n",
      "Epoch: 2050, Loss: 187.743042, Accuracy: 0.906250\n",
      "Epoch: 2100, Loss: 162.279221, Accuracy: 0.898438\n",
      "Epoch: 2150, Loss: 148.708115, Accuracy: 0.882812\n",
      "Epoch: 2200, Loss: 69.683250, Accuracy: 0.882812\n",
      "Epoch: 2250, Loss: 78.996498, Accuracy: 0.890625\n",
      "Epoch: 2300, Loss: 99.640808, Accuracy: 0.898438\n",
      "Epoch: 2350, Loss: 73.472260, Accuracy: 0.875000\n",
      "Epoch: 2400, Loss: 55.376968, Accuracy: 0.882812\n",
      "Epoch: 2450, Loss: 137.828003, Accuracy: 0.882812\n",
      "Epoch: 2500, Loss: 115.454079, Accuracy: 0.843750\n",
      "Epoch: 2550, Loss: 117.185936, Accuracy: 0.890625\n",
      "Epoch: 2600, Loss: 87.881790, Accuracy: 0.882812\n",
      "Epoch: 2650, Loss: 85.981812, Accuracy: 0.867188\n",
      "Epoch: 2700, Loss: 167.280136, Accuracy: 0.875000\n",
      "Epoch: 2750, Loss: 81.069305, Accuracy: 0.906250\n",
      "Epoch: 2800, Loss: 93.900917, Accuracy: 0.890625\n",
      "Epoch: 2850, Loss: 55.795784, Accuracy: 0.921875\n",
      "Epoch: 2900, Loss: 63.885429, Accuracy: 0.914062\n",
      "Epoch: 2950, Loss: 58.489185, Accuracy: 0.914062\n",
      "Epoch: 3000, Loss: 63.626568, Accuracy: 0.898438\n",
      "Epoch: 3050, Loss: 74.995804, Accuracy: 0.875000\n",
      "Epoch: 3100, Loss: 100.055450, Accuracy: 0.882812\n",
      "Epoch: 3150, Loss: 38.416588, Accuracy: 0.906250\n",
      "Epoch: 3200, Loss: 42.061211, Accuracy: 0.945312\n",
      "Epoch: 3250, Loss: 83.128799, Accuracy: 0.890625\n",
      "Epoch: 3300, Loss: 53.156010, Accuracy: 0.929688\n",
      "Epoch: 3350, Loss: 91.628510, Accuracy: 0.843750\n",
      "Epoch: 3400, Loss: 59.852982, Accuracy: 0.898438\n",
      "Epoch: 3450, Loss: 36.214432, Accuracy: 0.929688\n",
      "Epoch: 3500, Loss: 50.825138, Accuracy: 0.851562\n",
      "Epoch: 3550, Loss: 34.909332, Accuracy: 0.906250\n",
      "Epoch: 3600, Loss: 52.769043, Accuracy: 0.812500\n",
      "Epoch: 3650, Loss: 41.073849, Accuracy: 0.890625\n",
      "Epoch: 3700, Loss: 129.426453, Accuracy: 0.843750\n",
      "Epoch: 3750, Loss: 51.489098, Accuracy: 0.890625\n",
      "Epoch: 3800, Loss: 86.971466, Accuracy: 0.820312\n",
      "Epoch: 3850, Loss: 24.846256, Accuracy: 0.882812\n",
      "Epoch: 3900, Loss: 35.159447, Accuracy: 0.937500\n",
      "Epoch: 3950, Loss: 92.932640, Accuracy: 0.890625\n",
      "Epoch: 4000, Loss: 87.498466, Accuracy: 0.882812\n",
      "Epoch: 4050, Loss: 64.072586, Accuracy: 0.906250\n",
      "Epoch: 4100, Loss: 26.780045, Accuracy: 0.914062\n",
      "Epoch: 4150, Loss: 46.669136, Accuracy: 0.875000\n",
      "Epoch: 4200, Loss: 24.542500, Accuracy: 0.921875\n",
      "Epoch: 4250, Loss: 39.161213, Accuracy: 0.890625\n",
      "Epoch: 4300, Loss: 27.164402, Accuracy: 0.898438\n",
      "Epoch: 4350, Loss: 34.245705, Accuracy: 0.898438\n",
      "Epoch: 4400, Loss: 30.287130, Accuracy: 0.890625\n",
      "Epoch: 4450, Loss: 34.539448, Accuracy: 0.890625\n",
      "Epoch: 4500, Loss: 65.020203, Accuracy: 0.882812\n",
      "Epoch: 4550, Loss: 25.365818, Accuracy: 0.929688\n",
      "Epoch: 4600, Loss: 41.566795, Accuracy: 0.890625\n",
      "Epoch: 4650, Loss: 27.345802, Accuracy: 0.914062\n",
      "Epoch: 4700, Loss: 24.016071, Accuracy: 0.906250\n",
      "Epoch: 4750, Loss: 32.364746, Accuracy: 0.921875\n",
      "Epoch: 4800, Loss: 32.404541, Accuracy: 0.890625\n",
      "Epoch: 4850, Loss: 16.832569, Accuracy: 0.906250\n",
      "Epoch: 4900, Loss: 39.604168, Accuracy: 0.898438\n",
      "Epoch: 4950, Loss: 55.228661, Accuracy: 0.859375\n",
      "Epoch: 5000, Loss: 28.962044, Accuracy: 0.898438\n",
      "Epoch: 5050, Loss: 80.690491, Accuracy: 0.820312\n",
      "Epoch: 5100, Loss: 16.142719, Accuracy: 0.937500\n",
      "Epoch: 5150, Loss: 22.166164, Accuracy: 0.898438\n",
      "Epoch: 5200, Loss: 21.753277, Accuracy: 0.875000\n",
      "Epoch: 5250, Loss: 22.087917, Accuracy: 0.882812\n",
      "Epoch: 5300, Loss: 30.137777, Accuracy: 0.875000\n",
      "Epoch: 5350, Loss: 22.855465, Accuracy: 0.859375\n",
      "Epoch: 5400, Loss: 12.687113, Accuracy: 0.914062\n",
      "Epoch: 5450, Loss: 18.220335, Accuracy: 0.914062\n",
      "Epoch: 5500, Loss: 14.241871, Accuracy: 0.937500\n",
      "Epoch: 5550, Loss: 13.466821, Accuracy: 0.914062\n",
      "Epoch: 5600, Loss: 16.458633, Accuracy: 0.890625\n",
      "Epoch: 5650, Loss: 37.847118, Accuracy: 0.875000\n",
      "Epoch: 5700, Loss: 10.765328, Accuracy: 0.898438\n",
      "Epoch: 5750, Loss: 18.354647, Accuracy: 0.898438\n",
      "Epoch: 5800, Loss: 27.546394, Accuracy: 0.890625\n",
      "Epoch: 5850, Loss: 22.052866, Accuracy: 0.890625\n",
      "Epoch: 5900, Loss: 18.564461, Accuracy: 0.898438\n",
      "Epoch: 5950, Loss: 18.601498, Accuracy: 0.921875\n",
      "Epoch: 6000, Loss: 23.145269, Accuracy: 0.851562\n",
      "Epoch: 6050, Loss: 13.488787, Accuracy: 0.898438\n",
      "Epoch: 6100, Loss: 10.805044, Accuracy: 0.937500\n",
      "Epoch: 6150, Loss: 17.134773, Accuracy: 0.882812\n",
      "Epoch: 6200, Loss: 13.468468, Accuracy: 0.914062\n",
      "Epoch: 6250, Loss: 16.381880, Accuracy: 0.867188\n",
      "Epoch: 6300, Loss: 16.570347, Accuracy: 0.921875\n",
      "Epoch: 6350, Loss: 17.104317, Accuracy: 0.890625\n",
      "Epoch: 6400, Loss: 18.503906, Accuracy: 0.882812\n",
      "Epoch: 6450, Loss: 26.222832, Accuracy: 0.882812\n",
      "Epoch: 6500, Loss: 30.084227, Accuracy: 0.875000\n",
      "Epoch: 6550, Loss: 19.608101, Accuracy: 0.921875\n",
      "Epoch: 6600, Loss: 16.063028, Accuracy: 0.921875\n",
      "Epoch: 6650, Loss: 11.546173, Accuracy: 0.906250\n",
      "Epoch: 6700, Loss: 7.827260, Accuracy: 0.945312\n",
      "Epoch: 6750, Loss: 11.743232, Accuracy: 0.914062\n",
      "Epoch: 6800, Loss: 12.435633, Accuracy: 0.882812\n",
      "Epoch: 6850, Loss: 14.286281, Accuracy: 0.937500\n",
      "Epoch: 6900, Loss: 30.739742, Accuracy: 0.867188\n",
      "Epoch: 6950, Loss: 17.419067, Accuracy: 0.843750\n",
      "Epoch: 7000, Loss: 14.059025, Accuracy: 0.882812\n",
      "Epoch: 7050, Loss: 14.684481, Accuracy: 0.937500\n",
      "Epoch: 7100, Loss: 15.191445, Accuracy: 0.890625\n",
      "Epoch: 7150, Loss: 17.540489, Accuracy: 0.882812\n",
      "Epoch: 7200, Loss: 18.841337, Accuracy: 0.875000\n",
      "Epoch: 7250, Loss: 18.457615, Accuracy: 0.882812\n",
      "Epoch: 7300, Loss: 8.843366, Accuracy: 0.914062\n",
      "Epoch: 7350, Loss: 6.850648, Accuracy: 0.945312\n",
      "Epoch: 7400, Loss: 10.694122, Accuracy: 0.906250\n",
      "Epoch: 7450, Loss: 13.666223, Accuracy: 0.882812\n",
      "Epoch: 7500, Loss: 11.190404, Accuracy: 0.890625\n",
      "Epoch: 7550, Loss: 8.215271, Accuracy: 0.914062\n",
      "Epoch: 7600, Loss: 11.116869, Accuracy: 0.882812\n",
      "Epoch: 7650, Loss: 8.255985, Accuracy: 0.906250\n",
      "Epoch: 7700, Loss: 22.021347, Accuracy: 0.875000\n",
      "Epoch: 7750, Loss: 12.795662, Accuracy: 0.843750\n",
      "Epoch: 7800, Loss: 15.242685, Accuracy: 0.882812\n",
      "Epoch: 7850, Loss: 9.550272, Accuracy: 0.890625\n",
      "Epoch: 7900, Loss: 6.193197, Accuracy: 0.906250\n",
      "Epoch: 7950, Loss: 14.786739, Accuracy: 0.859375\n",
      "Epoch: 8000, Loss: 9.679588, Accuracy: 0.898438\n",
      "Epoch: 8050, Loss: 13.130145, Accuracy: 0.898438\n",
      "Epoch: 8100, Loss: 6.554933, Accuracy: 0.937500\n",
      "Epoch: 8150, Loss: 8.288274, Accuracy: 0.898438\n",
      "Epoch: 8200, Loss: 16.646803, Accuracy: 0.898438\n",
      "Epoch: 8250, Loss: 13.172268, Accuracy: 0.875000\n",
      "Epoch: 8300, Loss: 15.411840, Accuracy: 0.867188\n"
     ]
    },
    {
     "name": "stdout",
     "output_type": "stream",
     "text": [
      "Epoch: 8350, Loss: 3.722121, Accuracy: 0.921875\n",
      "Epoch: 8400, Loss: 4.951987, Accuracy: 0.914062\n",
      "Epoch: 8450, Loss: 12.166371, Accuracy: 0.875000\n",
      "Epoch: 8500, Loss: 12.761397, Accuracy: 0.851562\n",
      "Epoch: 8550, Loss: 9.062080, Accuracy: 0.859375\n",
      "Epoch: 8600, Loss: 7.616680, Accuracy: 0.898438\n",
      "Epoch: 8650, Loss: 11.057876, Accuracy: 0.835938\n",
      "Epoch: 8700, Loss: 9.385523, Accuracy: 0.882812\n",
      "Epoch: 8750, Loss: 1.579860, Accuracy: 0.960938\n",
      "Epoch: 8800, Loss: 15.038853, Accuracy: 0.820312\n",
      "Epoch: 8850, Loss: 11.864340, Accuracy: 0.906250\n",
      "Epoch: 8900, Loss: 7.693682, Accuracy: 0.914062\n",
      "Epoch: 8950, Loss: 10.250262, Accuracy: 0.906250\n",
      "Epoch: 9000, Loss: 3.727476, Accuracy: 0.929688\n",
      "Epoch: 9050, Loss: 12.527892, Accuracy: 0.890625\n",
      "Epoch: 9100, Loss: 12.223379, Accuracy: 0.867188\n",
      "Epoch: 9150, Loss: 6.892846, Accuracy: 0.898438\n",
      "Epoch: 9200, Loss: 6.918231, Accuracy: 0.929688\n",
      "Epoch: 9250, Loss: 15.950969, Accuracy: 0.820312\n",
      "Epoch: 9300, Loss: 11.752748, Accuracy: 0.890625\n",
      "Epoch: 9350, Loss: 4.050544, Accuracy: 0.890625\n",
      "Epoch: 9400, Loss: 7.236675, Accuracy: 0.898438\n",
      "Epoch: 9450, Loss: 10.056295, Accuracy: 0.875000\n",
      "Epoch: 9500, Loss: 8.236957, Accuracy: 0.898438\n",
      "Epoch: 9550, Loss: 9.369926, Accuracy: 0.906250\n",
      "Epoch: 9600, Loss: 13.804349, Accuracy: 0.882812\n",
      "Epoch: 9650, Loss: 9.330524, Accuracy: 0.945312\n",
      "Epoch: 9700, Loss: 6.754451, Accuracy: 0.843750\n",
      "Epoch: 9750, Loss: 7.737641, Accuracy: 0.906250\n",
      "Epoch: 9800, Loss: 11.144384, Accuracy: 0.890625\n",
      "Epoch: 9850, Loss: 7.043381, Accuracy: 0.867188\n",
      "Epoch: 9900, Loss: 8.706549, Accuracy: 0.859375\n",
      "Epoch: 9950, Loss: 5.735787, Accuracy: 0.875000\n",
      "Testing Accuracy:  0.8222\n"
     ]
    }
   ],
   "source": [
    "taccuracy = []\n",
    "tloss = []\n",
    "tidx = []\n",
    "\n",
    "# Start Training\n",
    "with tf.Session() as sess:\n",
    "    # Run initializer\n",
    "    sess.run(init)\n",
    "        \n",
    "    for ep in range(epoch):\n",
    "        batchx , batchy = mnist.train.next_batch(batch)\n",
    "        \n",
    "        # Run Optimization (BackProp)\n",
    "        sess.run(train_op, feed_dict={x: batchx, y: batchy})\n",
    "        \n",
    "        if((ep % display) == 0):\n",
    "            # Calculate Batch Loss and Accuracy\n",
    "            loss, acc = sess.run([loss_op, accuracy], feed_dict={x:batchx, y: batchy})\n",
    "            \n",
    "            tidx.append(ep)\n",
    "            tloss.append(loss)\n",
    "            taccuracy.append(acc)\n",
    "            \n",
    "            print('Epoch: %d, Loss: %f, Accuracy: %f' % (ep, loss, acc))\n",
    "    \n",
    "    tacc = sess.run(accuracy, feed_dict={x: mnist.test.images, y: mnist.test.labels})\n",
    "    print('Testing Accuracy: ', tacc)"
   ]
  },
  {
   "cell_type": "code",
   "execution_count": 21,
   "metadata": {},
   "outputs": [
    {
     "data": {
      "image/png": "[encoded data removed]",
      "text/plain": [
       "<Figure size 864x360 with 1 Axes>"
      ]
     },
     "metadata": {
      "needs_background": "light"
     },
     "output_type": "display_data"
    },
    {
     "data": {
      "image/png": "[encoded data removed]",
      "text/plain": [
       "<Figure size 864x360 with 1 Axes>"
      ]
     },
     "metadata": {
      "needs_background": "light"
     },
     "output_type": "display_data"
    }
   ],
   "source": [
    "# Plot accuracy and loss\n",
    "\n",
    "fig = plt.figure(figsize=(12,5))\n",
    "plt.title('Accuracy Evolution')\n",
    "plt.plot(tidx, taccuracy, color='green')\n",
    "plt.show()\n",
    "\n",
    "fig = plt.figure(figsize=(12,5))\n",
    "plt.title('Loss Evolution')\n",
    "plt.plot(tidx, tloss, color='red')\n",
    "plt.show()"
   ]
  }
 ],
 "metadata": {
  "file_extension": ".py",
  "kernelspec": {
   "display_name": "Python 3",
   "language": "python",
   "name": "python3"
  },
  "language_info": {
   "codemirror_mode": {
    "name": "ipython",
    "version": 3
   },
   "file_extension": ".py",
   "mimetype": "text/x-python",
   "name": "python",
   "nbconvert_exporter": "python",
   "pygments_lexer": "ipython3",
   "version": "3.7.4"
  },
  "mimetype": "text/x-python",
  "name": "python",
  "npconvert_exporter": "python",
  "pygments_lexer": "ipython3",
  "version": 3
 },
 "nbformat": 4,
 "nbformat_minor": 2
}
