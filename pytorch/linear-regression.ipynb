{
 "cells": [
  {
   "cell_type": "code",
   "execution_count": 1,
   "metadata": {},
   "outputs": [],
   "source": [
    "import torch\n",
    "from torch import tensor\n",
    "import matplotlib.pyplot as plt"
   ]
  },
  {
   "cell_type": "code",
   "execution_count": 2,
   "metadata": {},
   "outputs": [],
   "source": [
    "xD = tensor([[1.0], [2.0], [3.0]])\n",
    "yD = tensor([[2.0], [4.0], [6.0]])"
   ]
  },
  {
   "cell_type": "code",
   "execution_count": 3,
   "metadata": {},
   "outputs": [],
   "source": [
    "# Model\n",
    "class Model(torch.nn.Module):\n",
    "    def __init__(self):\n",
    "        super(Model, self).__init__()\n",
    "        self.linear = torch.nn.Linear(1,1)\n",
    "        \n",
    "    def forward(self, x):\n",
    "        yP = self.linear(x)\n",
    "        return yP"
   ]
  },
  {
   "cell_type": "code",
   "execution_count": 4,
   "metadata": {},
   "outputs": [],
   "source": [
    "model = Model()"
   ]
  },
  {
   "cell_type": "code",
   "execution_count": 5,
   "metadata": {},
   "outputs": [],
   "source": [
    "criterion = torch.nn.MSELoss(reduction='sum')\n",
    "optimizer = torch.optim.SGD(model.parameters(), lr=0.01)"
   ]
  },
  {
   "cell_type": "code",
   "execution_count": 6,
   "metadata": {},
   "outputs": [
    {
     "name": "stdout",
     "output_type": "stream",
     "text": [
      "Epoch: 0 | Loss: 64.15380859375 \n",
      "Epoch: 10 | Loss: 0.32575297355651855 \n",
      "Epoch: 20 | Loss: 0.2649836838245392 \n",
      "Epoch: 30 | Loss: 0.22926709055900574 \n",
      "Epoch: 40 | Loss: 0.19836892187595367 \n",
      "Epoch: 50 | Loss: 0.17163503170013428 \n",
      "Epoch: 60 | Loss: 0.14850381016731262 \n",
      "Epoch: 70 | Loss: 0.1284901350736618 \n",
      "Epoch: 80 | Loss: 0.11117377132177353 \n",
      "Epoch: 90 | Loss: 0.09619094431400299 \n"
     ]
    }
   ],
   "source": [
    "# Training loop\n",
    "epochs = 100\n",
    "\n",
    "lossV = []\n",
    "\n",
    "for epoch in range(epochs):\n",
    "    # 1) Forward pass: Compute predicted y by passing x to the model\n",
    "    yP = model(xD)\n",
    "\n",
    "    # 2) Compute and print loss\n",
    "    loss = criterion(yP, yD)\n",
    "    lossV.append(loss)\n",
    "    \n",
    "    if(epoch % 10 == 0):\n",
    "        print(f'Epoch: {epoch} | Loss: {loss.item()} ')\n",
    "\n",
    "    # Zero gradients, perform a backward pass, and update the weights.\n",
    "    optimizer.zero_grad()\n",
    "    loss.backward()\n",
    "    optimizer.step()\n"
   ]
  },
  {
   "cell_type": "code",
   "execution_count": 7,
   "metadata": {},
   "outputs": [
    {
     "name": "stdout",
     "output_type": "stream",
     "text": [
      "tensor([[7.6660]], grad_fn=<AddmmBackward>)\n"
     ]
    }
   ],
   "source": [
    "yT = model(tensor([[4.0]]))\n",
    "print(yT)"
   ]
  },
  {
   "cell_type": "code",
   "execution_count": 8,
   "metadata": {},
   "outputs": [
    {
     "data": {
      "image/png": "[encoded data removed]",
      "text/plain": [
       "<Figure size 432x288 with 1 Axes>"
      ]
     },
     "metadata": {
      "needs_background": "light"
     },
     "output_type": "display_data"
    }
   ],
   "source": [
    "plt.plot(range(epochs), lossV)\n",
    "plt.show()"
   ]
  }
 ],
 "metadata": {
  "kernelspec": {
   "display_name": "Python 3",
   "language": "python",
   "name": "python3"
  },
  "language_info": {
   "codemirror_mode": {
    "name": "ipython",
    "version": 3
   },
   "file_extension": ".py",
   "mimetype": "text/x-python",
   "name": "python",
   "nbconvert_exporter": "python",
   "pygments_lexer": "ipython3",
   "version": "3.6.9"
  }
 },
 "nbformat": 4,
 "nbformat_minor": 2
}
