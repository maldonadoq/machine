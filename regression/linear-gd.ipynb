{
 "cells": [
  {
   "cell_type": "code",
   "execution_count": 1,
   "metadata": {},
   "outputs": [],
   "source": [
    "import numpy as np\n",
    "import matplotlib.pyplot as plt"
   ]
  },
  {
   "cell_type": "code",
   "execution_count": 2,
   "metadata": {},
   "outputs": [],
   "source": [
    "# Data\n",
    "t = 100\n",
    "np.random.seed(0)\n",
    "x = 10 * np.random.rand(t)\n",
    "y = x + 2*(np.random.rand(t) - 0.5)\n",
    "\n",
    "xt = np.ones((x.shape[0], 2))\n",
    "xt[:,1] = x"
   ]
  },
  {
   "cell_type": "code",
   "execution_count": 3,
   "metadata": {},
   "outputs": [
    {
     "data": {
      "image/png": "[encoded data removed]",
      "text/plain": [
       "<Figure size 432x288 with 1 Axes>"
      ]
     },
     "metadata": {
      "needs_background": "light"
     },
     "output_type": "display_data"
    }
   ],
   "source": [
    "plt.scatter(x,y, c='skyblue')\n",
    "plt.show()"
   ]
  },
  {
   "cell_type": "code",
   "execution_count": 4,
   "metadata": {},
   "outputs": [],
   "source": [
    "class LinearRegression:\n",
    "    \n",
    "    def loss(self, h, y):\n",
    "        return (np.power(h - y, 2)).mean()\n",
    "    \n",
    "    def fit(self, x, y, epochs=1000, lr=0.01):\n",
    "        theta = np.zeros(x.shape[1])   # Weights        \n",
    "\n",
    "        for i in range(epochs):            \n",
    "            z = np.dot(x, theta)\n",
    "            grad = np.dot(x.T, (z - y)) / y.size\n",
    "            theta -= (grad * lr)\n",
    "                        \n",
    "            if(i % 100 == 0):\n",
    "                z = np.dot(x, theta)          \n",
    "                loss = self.loss(z, y)\n",
    "                print('epoch {} - loss: {}'.format(i, loss))\n",
    "        \n",
    "        self.theta = theta\n",
    "        \n",
    "    def predict(self, x):\n",
    "        return np.dot(x, self.theta)"
   ]
  },
  {
   "cell_type": "code",
   "execution_count": 10,
   "metadata": {},
   "outputs": [
    {
     "name": "stdout",
     "output_type": "stream",
     "text": [
      "epoch 0 - loss: 14.88859463980994\n",
      "epoch 100 - loss: 0.30514448997522686\n",
      "epoch 200 - loss: 0.3050574639102731\n",
      "epoch 300 - loss: 0.3050062453984868\n",
      "epoch 400 - loss: 0.3049761011428434\n",
      "epoch 500 - loss: 0.30495835997628845\n",
      "epoch 600 - loss: 0.3049479185510813\n",
      "epoch 700 - loss: 0.30494177333171135\n",
      "epoch 800 - loss: 0.30493815661077955\n",
      "epoch 900 - loss: 0.30493602801788305\n",
      "epoch 1000 - loss: 0.3049347752511353\n",
      "epoch 1100 - loss: 0.30493403794503676\n",
      "epoch 1200 - loss: 0.3049336040092828\n",
      "epoch 1300 - loss: 0.30493334861977933\n",
      "epoch 1400 - loss: 0.30493319831227866\n",
      "epoch 1500 - loss: 0.3049331098499718\n",
      "epoch 1600 - loss: 0.30493305778617075\n",
      "epoch 1700 - loss: 0.3049330271444269\n",
      "epoch 1800 - loss: 0.30493300911046745\n",
      "epoch 1900 - loss: 0.30493299849672134\n",
      "epoch 2000 - loss: 0.3049329922500838\n",
      "epoch 2100 - loss: 0.304932988573674\n",
      "epoch 2200 - loss: 0.3049329864099517\n",
      "epoch 2300 - loss: 0.3049329851365098\n",
      "epoch 2400 - loss: 0.3049329843870354\n",
      "epoch 2500 - loss: 0.30493298394593826\n",
      "epoch 2600 - loss: 0.3049329836863339\n",
      "epoch 2700 - loss: 0.3049329835335457\n",
      "epoch 2800 - loss: 0.30493298344362346\n",
      "epoch 2900 - loss: 0.3049329833907004\n",
      "epoch 3000 - loss: 0.30493298335955293\n",
      "epoch 3100 - loss: 0.30493298334122143\n",
      "epoch 3200 - loss: 0.30493298333043245\n",
      "epoch 3300 - loss: 0.30493298332408286\n",
      "epoch 3400 - loss: 0.30493298332034563\n",
      "epoch 3500 - loss: 0.3049329833181461\n",
      "epoch 3600 - loss: 0.30493298331685176\n",
      "epoch 3700 - loss: 0.3049329833160899\n",
      "epoch 3800 - loss: 0.3049329833156415\n",
      "epoch 3900 - loss: 0.3049329833153776\n",
      "epoch 4000 - loss: 0.30493298331522245\n",
      "epoch 4100 - loss: 0.304932983315131\n",
      "epoch 4200 - loss: 0.3049329833150772\n",
      "epoch 4300 - loss: 0.30493298331504565\n",
      "epoch 4400 - loss: 0.3049329833150269\n",
      "epoch 4500 - loss: 0.3049329833150159\n",
      "epoch 4600 - loss: 0.30493298331500945\n",
      "epoch 4700 - loss: 0.3049329833150057\n",
      "epoch 4800 - loss: 0.30493298331500346\n",
      "epoch 4900 - loss: 0.3049329833150021\n",
      "epoch 5000 - loss: 0.3049329833150013\n",
      "epoch 5100 - loss: 0.3049329833150009\n",
      "epoch 5200 - loss: 0.30493298331500074\n",
      "epoch 5300 - loss: 0.3049329833150004\n",
      "epoch 5400 - loss: 0.3049329833150003\n",
      "epoch 5500 - loss: 0.3049329833150003\n",
      "epoch 5600 - loss: 0.30493298331500024\n",
      "epoch 5700 - loss: 0.3049329833150003\n",
      "epoch 5800 - loss: 0.3049329833150002\n",
      "epoch 5900 - loss: 0.3049329833150003\n",
      "epoch 6000 - loss: 0.30493298331500035\n",
      "epoch 6100 - loss: 0.3049329833150003\n",
      "epoch 6200 - loss: 0.3049329833150003\n",
      "epoch 6300 - loss: 0.3049329833150002\n",
      "epoch 6400 - loss: 0.30493298331500035\n",
      "epoch 6500 - loss: 0.30493298331500024\n",
      "epoch 6600 - loss: 0.3049329833150003\n",
      "epoch 6700 - loss: 0.3049329833150003\n",
      "epoch 6800 - loss: 0.30493298331500024\n",
      "epoch 6900 - loss: 0.3049329833150003\n",
      "epoch 7000 - loss: 0.30493298331500024\n",
      "epoch 7100 - loss: 0.3049329833150003\n",
      "epoch 7200 - loss: 0.30493298331500024\n",
      "epoch 7300 - loss: 0.30493298331500013\n",
      "epoch 7400 - loss: 0.30493298331500024\n",
      "epoch 7500 - loss: 0.3049329833150003\n",
      "epoch 7600 - loss: 0.30493298331500024\n",
      "epoch 7700 - loss: 0.3049329833150003\n",
      "epoch 7800 - loss: 0.30493298331500024\n",
      "epoch 7900 - loss: 0.3049329833150002\n",
      "epoch 8000 - loss: 0.30493298331500024\n",
      "epoch 8100 - loss: 0.3049329833150002\n",
      "epoch 8200 - loss: 0.3049329833150003\n",
      "epoch 8300 - loss: 0.30493298331500024\n",
      "epoch 8400 - loss: 0.30493298331500024\n",
      "epoch 8500 - loss: 0.30493298331500024\n",
      "epoch 8600 - loss: 0.3049329833150002\n",
      "epoch 8700 - loss: 0.3049329833150002\n",
      "epoch 8800 - loss: 0.30493298331500024\n",
      "epoch 8900 - loss: 0.30493298331500013\n",
      "epoch 9000 - loss: 0.3049329833150002\n",
      "epoch 9100 - loss: 0.3049329833150003\n",
      "epoch 9200 - loss: 0.30493298331500024\n",
      "epoch 9300 - loss: 0.3049329833150002\n",
      "epoch 9400 - loss: 0.30493298331500024\n",
      "epoch 9500 - loss: 0.30493298331500024\n",
      "epoch 9600 - loss: 0.3049329833150003\n",
      "epoch 9700 - loss: 0.30493298331500013\n",
      "epoch 9800 - loss: 0.30493298331500024\n",
      "epoch 9900 - loss: 0.3049329833150002\n",
      "epoch 10000 - loss: 0.30493298331500024\n",
      "epoch 10100 - loss: 0.30493298331500035\n",
      "epoch 10200 - loss: 0.3049329833150002\n",
      "epoch 10300 - loss: 0.30493298331500024\n",
      "epoch 10400 - loss: 0.30493298331500013\n",
      "epoch 10500 - loss: 0.30493298331500024\n",
      "epoch 10600 - loss: 0.30493298331500024\n",
      "epoch 10700 - loss: 0.30493298331500024\n",
      "epoch 10800 - loss: 0.3049329833150002\n",
      "epoch 10900 - loss: 0.30493298331500024\n",
      "epoch 11000 - loss: 0.30493298331500013\n",
      "epoch 11100 - loss: 0.30493298331500013\n",
      "epoch 11200 - loss: 0.3049329833150003\n",
      "epoch 11300 - loss: 0.30493298331500024\n",
      "epoch 11400 - loss: 0.30493298331500024\n",
      "epoch 11500 - loss: 0.30493298331500024\n",
      "epoch 11600 - loss: 0.30493298331500024\n",
      "epoch 11700 - loss: 0.30493298331500024\n",
      "epoch 11800 - loss: 0.30493298331500024\n",
      "epoch 11900 - loss: 0.30493298331500024\n",
      "epoch 12000 - loss: 0.30493298331500024\n",
      "epoch 12100 - loss: 0.30493298331500024\n",
      "epoch 12200 - loss: 0.30493298331500024\n",
      "epoch 12300 - loss: 0.30493298331500024\n",
      "epoch 12400 - loss: 0.30493298331500024\n",
      "epoch 12500 - loss: 0.30493298331500024\n",
      "epoch 12600 - loss: 0.30493298331500024\n",
      "epoch 12700 - loss: 0.30493298331500024\n",
      "epoch 12800 - loss: 0.30493298331500024\n",
      "epoch 12900 - loss: 0.30493298331500024\n",
      "epoch 13000 - loss: 0.30493298331500024\n",
      "epoch 13100 - loss: 0.30493298331500024\n",
      "epoch 13200 - loss: 0.30493298331500024\n",
      "epoch 13300 - loss: 0.30493298331500024\n",
      "epoch 13400 - loss: 0.30493298331500024\n",
      "epoch 13500 - loss: 0.30493298331500024\n",
      "epoch 13600 - loss: 0.30493298331500024\n",
      "epoch 13700 - loss: 0.30493298331500024\n",
      "epoch 13800 - loss: 0.30493298331500024\n",
      "epoch 13900 - loss: 0.30493298331500024\n",
      "epoch 14000 - loss: 0.30493298331500024\n",
      "epoch 14100 - loss: 0.30493298331500024\n",
      "epoch 14200 - loss: 0.30493298331500024\n",
      "epoch 14300 - loss: 0.30493298331500024\n",
      "epoch 14400 - loss: 0.30493298331500024\n",
      "epoch 14500 - loss: 0.30493298331500024\n",
      "epoch 14600 - loss: 0.30493298331500024\n",
      "epoch 14700 - loss: 0.30493298331500024\n",
      "epoch 14800 - loss: 0.30493298331500024\n",
      "epoch 14900 - loss: 0.30493298331500024\n",
      "epoch 15000 - loss: 0.30493298331500024\n",
      "epoch 15100 - loss: 0.30493298331500024\n",
      "epoch 15200 - loss: 0.30493298331500024\n",
      "epoch 15300 - loss: 0.30493298331500024\n",
      "epoch 15400 - loss: 0.30493298331500024\n",
      "epoch 15500 - loss: 0.30493298331500024\n",
      "epoch 15600 - loss: 0.30493298331500024\n",
      "epoch 15700 - loss: 0.30493298331500024\n",
      "epoch 15800 - loss: 0.30493298331500024\n",
      "epoch 15900 - loss: 0.30493298331500024\n",
      "epoch 16000 - loss: 0.30493298331500024\n",
      "epoch 16100 - loss: 0.30493298331500024\n",
      "epoch 16200 - loss: 0.30493298331500024\n",
      "epoch 16300 - loss: 0.30493298331500024\n",
      "epoch 16400 - loss: 0.30493298331500024\n",
      "epoch 16500 - loss: 0.30493298331500024\n",
      "epoch 16600 - loss: 0.30493298331500024\n",
      "epoch 16700 - loss: 0.30493298331500024\n",
      "epoch 16800 - loss: 0.30493298331500024\n",
      "epoch 16900 - loss: 0.30493298331500024\n",
      "epoch 17000 - loss: 0.30493298331500024\n",
      "epoch 17100 - loss: 0.30493298331500024\n",
      "epoch 17200 - loss: 0.30493298331500024\n",
      "epoch 17300 - loss: 0.30493298331500024\n",
      "epoch 17400 - loss: 0.30493298331500024\n",
      "epoch 17500 - loss: 0.30493298331500024\n",
      "epoch 17600 - loss: 0.30493298331500024\n",
      "epoch 17700 - loss: 0.30493298331500024\n",
      "epoch 17800 - loss: 0.30493298331500024\n",
      "epoch 17900 - loss: 0.30493298331500024\n",
      "epoch 18000 - loss: 0.30493298331500024\n",
      "epoch 18100 - loss: 0.30493298331500024\n",
      "epoch 18200 - loss: 0.30493298331500024\n",
      "epoch 18300 - loss: 0.30493298331500024\n",
      "epoch 18400 - loss: 0.30493298331500024\n",
      "epoch 18500 - loss: 0.30493298331500024\n",
      "epoch 18600 - loss: 0.30493298331500024\n",
      "epoch 18700 - loss: 0.30493298331500024\n",
      "epoch 18800 - loss: 0.30493298331500024\n",
      "epoch 18900 - loss: 0.30493298331500024\n",
      "epoch 19000 - loss: 0.30493298331500024\n",
      "epoch 19100 - loss: 0.30493298331500024\n",
      "epoch 19200 - loss: 0.30493298331500024\n",
      "epoch 19300 - loss: 0.30493298331500024\n",
      "epoch 19400 - loss: 0.30493298331500024\n",
      "epoch 19500 - loss: 0.30493298331500024\n",
      "epoch 19600 - loss: 0.30493298331500024\n",
      "epoch 19700 - loss: 0.30493298331500024\n",
      "epoch 19800 - loss: 0.30493298331500024\n",
      "epoch 19900 - loss: 0.30493298331500024\n"
     ]
    }
   ],
   "source": [
    "model = LinearRegression()\n",
    "model.fit(xt, y, 20000)"
   ]
  },
  {
   "cell_type": "code",
   "execution_count": 11,
   "metadata": {},
   "outputs": [
    {
     "data": {
      "text/plain": [
       "array([0.11616005, 0.98731021])"
      ]
     },
     "execution_count": 11,
     "metadata": {},
     "output_type": "execute_result"
    }
   ],
   "source": [
    "param = model.theta\n",
    "param"
   ]
  },
  {
   "cell_type": "code",
   "execution_count": 12,
   "metadata": {},
   "outputs": [
    {
     "data": {
      "image/png": "[encoded data removed]",
      "text/plain": [
       "<Figure size 432x288 with 1 Axes>"
      ]
     },
     "metadata": {
      "needs_background": "light"
     },
     "output_type": "display_data"
    }
   ],
   "source": [
    "# Plot in 2D [Just when the data is in 2D]\n",
    "x_val = [np.min(xt[:, 1] - 0.5), np.max(xt[:,1] + 0.5)]\n",
    "y_val = param[0] + np.dot(param[1], x_val)\n",
    "\n",
    "plt.scatter(x,y, c='skyblue')\n",
    "plt.plot(x_val, y_val, label='f(x) = {:.2f} + {:.2f}x'.format(param[0], param[1]), color='salmon')\n",
    "plt.legend()\n",
    "plt.show()"
   ]
  }
 ],
 "metadata": {
  "kernelspec": {
   "display_name": "Python 3",
   "language": "python",
   "name": "python3"
  },
  "language_info": {
   "codemirror_mode": {
    "name": "ipython",
    "version": 3
   },
   "file_extension": ".py",
   "mimetype": "text/x-python",
   "name": "python",
   "nbconvert_exporter": "python",
   "pygments_lexer": "ipython3",
   "version": "3.7.4"
  }
 },
 "nbformat": 4,
 "nbformat_minor": 2
}
