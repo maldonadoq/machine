{
 "cells": [
  {
   "cell_type": "code",
   "execution_count": 1,
   "metadata": {},
   "outputs": [
    {
     "name": "stderr",
     "output_type": "stream",
     "text": [
      "Using TensorFlow backend.\n",
      "/usr/local/lib/python3.6/dist-packages/tensorflow/python/framework/dtypes.py:516: FutureWarning: Passing (type, 1) or '1type' as a synonym of type is deprecated; in a future version of numpy, it will be understood as (type, (1,)) / '(1,)type'.\n",
      "  _np_qint8 = np.dtype([(\"qint8\", np.int8, 1)])\n",
      "/usr/local/lib/python3.6/dist-packages/tensorflow/python/framework/dtypes.py:517: FutureWarning: Passing (type, 1) or '1type' as a synonym of type is deprecated; in a future version of numpy, it will be understood as (type, (1,)) / '(1,)type'.\n",
      "  _np_quint8 = np.dtype([(\"quint8\", np.uint8, 1)])\n",
      "/usr/local/lib/python3.6/dist-packages/tensorflow/python/framework/dtypes.py:518: FutureWarning: Passing (type, 1) or '1type' as a synonym of type is deprecated; in a future version of numpy, it will be understood as (type, (1,)) / '(1,)type'.\n",
      "  _np_qint16 = np.dtype([(\"qint16\", np.int16, 1)])\n",
      "/usr/local/lib/python3.6/dist-packages/tensorflow/python/framework/dtypes.py:519: FutureWarning: Passing (type, 1) or '1type' as a synonym of type is deprecated; in a future version of numpy, it will be understood as (type, (1,)) / '(1,)type'.\n",
      "  _np_quint16 = np.dtype([(\"quint16\", np.uint16, 1)])\n",
      "/usr/local/lib/python3.6/dist-packages/tensorflow/python/framework/dtypes.py:520: FutureWarning: Passing (type, 1) or '1type' as a synonym of type is deprecated; in a future version of numpy, it will be understood as (type, (1,)) / '(1,)type'.\n",
      "  _np_qint32 = np.dtype([(\"qint32\", np.int32, 1)])\n",
      "/usr/local/lib/python3.6/dist-packages/tensorflow/python/framework/dtypes.py:525: FutureWarning: Passing (type, 1) or '1type' as a synonym of type is deprecated; in a future version of numpy, it will be understood as (type, (1,)) / '(1,)type'.\n",
      "  np_resource = np.dtype([(\"resource\", np.ubyte, 1)])\n",
      "/usr/local/lib/python3.6/dist-packages/tensorboard/compat/tensorflow_stub/dtypes.py:541: FutureWarning: Passing (type, 1) or '1type' as a synonym of type is deprecated; in a future version of numpy, it will be understood as (type, (1,)) / '(1,)type'.\n",
      "  _np_qint8 = np.dtype([(\"qint8\", np.int8, 1)])\n",
      "/usr/local/lib/python3.6/dist-packages/tensorboard/compat/tensorflow_stub/dtypes.py:542: FutureWarning: Passing (type, 1) or '1type' as a synonym of type is deprecated; in a future version of numpy, it will be understood as (type, (1,)) / '(1,)type'.\n",
      "  _np_quint8 = np.dtype([(\"quint8\", np.uint8, 1)])\n",
      "/usr/local/lib/python3.6/dist-packages/tensorboard/compat/tensorflow_stub/dtypes.py:543: FutureWarning: Passing (type, 1) or '1type' as a synonym of type is deprecated; in a future version of numpy, it will be understood as (type, (1,)) / '(1,)type'.\n",
      "  _np_qint16 = np.dtype([(\"qint16\", np.int16, 1)])\n",
      "/usr/local/lib/python3.6/dist-packages/tensorboard/compat/tensorflow_stub/dtypes.py:544: FutureWarning: Passing (type, 1) or '1type' as a synonym of type is deprecated; in a future version of numpy, it will be understood as (type, (1,)) / '(1,)type'.\n",
      "  _np_quint16 = np.dtype([(\"quint16\", np.uint16, 1)])\n",
      "/usr/local/lib/python3.6/dist-packages/tensorboard/compat/tensorflow_stub/dtypes.py:545: FutureWarning: Passing (type, 1) or '1type' as a synonym of type is deprecated; in a future version of numpy, it will be understood as (type, (1,)) / '(1,)type'.\n",
      "  _np_qint32 = np.dtype([(\"qint32\", np.int32, 1)])\n",
      "/usr/local/lib/python3.6/dist-packages/tensorboard/compat/tensorflow_stub/dtypes.py:550: FutureWarning: Passing (type, 1) or '1type' as a synonym of type is deprecated; in a future version of numpy, it will be understood as (type, (1,)) / '(1,)type'.\n",
      "  np_resource = np.dtype([(\"resource\", np.ubyte, 1)])\n"
     ]
    }
   ],
   "source": [
    "import numpy as np\n",
    "import scipy as sp\n",
    "import h5py\n",
    "import matplotlib.pyplot as plt\n",
    "\n",
    "from skimage import transform\n",
    "\n",
    "from keras.models import Sequential, Model, load_model\n",
    "from keras.layers import (Activation, Conv2D, ReLU, MaxPooling2D, \\\n",
    "                          Conv2DTranspose, Dropout, Input, Concatenate)\n",
    "from keras.callbacks import EarlyStopping, ModelCheckpoint\n",
    "from keras import backend as K\n",
    "\n",
    "import tensorflow as tf"
   ]
  },
  {
   "cell_type": "code",
   "execution_count": 2,
   "metadata": {},
   "outputs": [],
   "source": [
    "PATH = '/home/maldonado/Machine/data/brain/'\n",
    "imgurls = !ls '{PATH}'"
   ]
  },
  {
   "cell_type": "code",
   "execution_count": 3,
   "metadata": {},
   "outputs": [],
   "source": [
    "n = len(imgurls)\n",
    "ntr = int(0.8 * n)\n",
    "\n",
    "train_urls = imgurls[:ntr]\n",
    "test_urls = imgurls[ntr:n]"
   ]
  },
  {
   "cell_type": "code",
   "execution_count": 4,
   "metadata": {},
   "outputs": [],
   "source": [
    "# Parameters\n",
    "img_width = 128\n",
    "img_heigth = 128\n",
    "img_channel = 3"
   ]
  },
  {
   "cell_type": "code",
   "execution_count": 5,
   "metadata": {},
   "outputs": [
    {
     "name": "stdout",
     "output_type": "stream",
     "text": [
      "(320, 128, 128, 3)\n",
      "(320, 128, 128, 1)\n"
     ]
    }
   ],
   "source": [
    "x_train = np.zeros((len(train_urls), img_heigth, img_width, img_channel))\n",
    "y_train = np.zeros((len(train_urls), img_heigth, img_width, 1), dtype=np.bool)\n",
    "\n",
    "x_test = np.zeros((len(test_urls), img_heigth, img_width, img_channel))\n",
    "y_test = np.zeros((len(test_urls), img_heigth, img_width, 1), dtype=np.bool)\n",
    "\n",
    "print(x_train.shape)\n",
    "print(y_train.shape)"
   ]
  },
  {
   "cell_type": "code",
   "execution_count": 6,
   "metadata": {},
   "outputs": [],
   "source": [
    "def read_files(files, xt, yt):\n",
    "    \n",
    "    for idx, file in enumerate(files):\n",
    "        mat = h5py.File(PATH + file, 'r')        \n",
    "        \n",
    "        img = transform.resize(mat.get('cjdata').get('image'), (img_heigth, img_width))\n",
    "        tma = transform.resize(mat.get('cjdata').get('tumorMask'), (img_heigth, img_width))\n",
    "\n",
    "        xt[idx] = img[:,:,np.newaxis]\n",
    "        yt[idx] = tma[:,:,np.newaxis]\n",
    "        \n",
    "read_files(train_urls, x_train, y_train)\n",
    "read_files(test_urls, x_test, y_test)"
   ]
  },
  {
   "cell_type": "code",
   "execution_count": 7,
   "metadata": {},
   "outputs": [],
   "source": [
    "def plot_img(xtr, ytr):\n",
    "    plt.subplot(121)\n",
    "    plt.imshow(xtr, cmap='gray')\n",
    "\n",
    "    plt.subplot(122)\n",
    "    plt.imshow(ytr, cmap='gray')\n",
    "\n",
    "    plt.show()"
   ]
  },
  {
   "cell_type": "code",
   "execution_count": 8,
   "metadata": {},
   "outputs": [
    {
     "data": {
      "image/png": "[encoded data removed]",
      "text/plain": [
       "<Figure size 432x288 with 2 Axes>"
      ]
     },
     "metadata": {
      "needs_background": "light"
     },
     "output_type": "display_data"
    }
   ],
   "source": [
    "nr = np.random.randint(len(x_train))\n",
    "plot_img(x_train[nr,:,:], y_train[nr,:,:,0])"
   ]
  },
  {
   "cell_type": "code",
   "execution_count": 9,
   "metadata": {},
   "outputs": [],
   "source": [
    "# Define IoU metric\n",
    "def mean_iou(y_true, y_pred):\n",
    "    prec = []\n",
    "    for t in np.arange(0.5, 1.0, 0.05):\n",
    "        y_pred_ = tf.to_int32(y_pred > t)\n",
    "        score, up_opt = tf.metrics.mean_iou(y_true, y_pred_, 2)\n",
    "        K.get_session().run(tf.local_variables_initializer())\n",
    "        \n",
    "        with tf.control_dependencies([up_opt]):\n",
    "            score = tf.identity(score)\n",
    "        prec.append(score)\n",
    "        \n",
    "    return K.mean(K.stack(prec), axis=0)"
   ]
  },
  {
   "cell_type": "code",
   "execution_count": 10,
   "metadata": {},
   "outputs": [],
   "source": [
    "# Block Code\n",
    "def block(filters, b):\n",
    "    # Convolution Layer\n",
    "    c = Conv2D(filters, (3,3), activation='elu', kernel_initializer='he_normal', padding='same')(b)\n",
    "        \n",
    "    # Dropout Layer\n",
    "    c = Dropout(0.1)(c)\n",
    "        \n",
    "    # Convolution Layer\n",
    "    c = Conv2D(filters, (3,3), activation='elu', kernel_initializer='he_normal', padding='same')(c)\n",
    "    \n",
    "    return c"
   ]
  },
  {
   "cell_type": "code",
   "execution_count": 11,
   "metadata": {},
   "outputs": [],
   "source": [
    "# Generator Network\n",
    "def unet():    \n",
    "    inputs = Input(shape=[img_heigth, img_heigth, img_channel])\n",
    "    \n",
    "    c1 = block(16, inputs)\n",
    "    p1 = MaxPooling2D()(c1)\n",
    "    \n",
    "    c2 = block(32, p1)\n",
    "    p2 = MaxPooling2D()(c2)\n",
    "    \n",
    "    c3 = block(64, p2)\n",
    "    p3 = MaxPooling2D()(c3)\n",
    "    \n",
    "    c4 = block(128, p3)\n",
    "    p4 = MaxPooling2D()(c4)\n",
    "    \n",
    "    c5 = block(256, p4)\n",
    "    \n",
    "    u6 = Conv2DTranspose(128, (2,2), strides=(2,2), padding='same')(c5)\n",
    "    u6 = Concatenate()([u6,c4])\n",
    "    c6 = block(128, u6)\n",
    "    \n",
    "    u7 = Conv2DTranspose(64, (2,2), strides=(2,2), padding='same')(c6)\n",
    "    u7 = Concatenate()([u7,c3])\n",
    "    c7 = block(64, u7)\n",
    "    \n",
    "    u8 = Conv2DTranspose(32, (2,2), strides=(2,2), padding='same')(c7)\n",
    "    u8 = Concatenate()([u8,c2])\n",
    "    c8 = block(32, u8)\n",
    "    \n",
    "    u9 = Conv2DTranspose(16, (2,2), strides=(2,2), padding='same')(c8)\n",
    "    u9 = Concatenate()([u9,c1])\n",
    "    c9 = block(16, u9)\n",
    "    \n",
    "    outputs = Conv2D(1, (1,1), activation='sigmoid')(c9)\n",
    "    \n",
    "    model = Model(inputs=[inputs], outputs=[outputs])\n",
    "    return model"
   ]
  },
  {
   "cell_type": "code",
   "execution_count": 12,
   "metadata": {},
   "outputs": [
    {
     "name": "stdout",
     "output_type": "stream",
     "text": [
      "WARNING:tensorflow:From /usr/local/lib/python3.6/dist-packages/keras/backend/tensorflow_backend.py:4070: The name tf.nn.max_pool is deprecated. Please use tf.nn.max_pool2d instead.\n",
      "\n",
      "WARNING:tensorflow:From <ipython-input-9-f33cbed43ce6>:5: to_int32 (from tensorflow.python.ops.math_ops) is deprecated and will be removed in a future version.\n",
      "Instructions for updating:\n",
      "Use `tf.cast` instead.\n",
      "WARNING:tensorflow:From /usr/local/lib/python3.6/dist-packages/tensorflow/python/ops/metrics_impl.py:1178: add_dispatch_support.<locals>.wrapper (from tensorflow.python.ops.array_ops) is deprecated and will be removed in a future version.\n",
      "Instructions for updating:\n",
      "Use tf.where in 2.0, which has the same broadcast rule as np.where\n",
      "WARNING:tensorflow:From /usr/local/lib/python3.6/dist-packages/tensorflow/python/ops/metrics_impl.py:1179: div (from tensorflow.python.ops.math_ops) is deprecated and will be removed in a future version.\n",
      "Instructions for updating:\n",
      "Deprecated in favor of operator or tf.math.divide.\n",
      "Model: \"model_1\"\n",
      "__________________________________________________________________________________________________\n",
      "Layer (type)                    Output Shape         Param #     Connected to                     \n",
      "==================================================================================================\n",
      "input_1 (InputLayer)            (None, 128, 128, 3)  0                                            \n",
      "__________________________________________________________________________________________________\n",
      "conv2d_1 (Conv2D)               (None, 128, 128, 16) 448         input_1[0][0]                    \n",
      "__________________________________________________________________________________________________\n",
      "dropout_1 (Dropout)             (None, 128, 128, 16) 0           conv2d_1[0][0]                   \n",
      "__________________________________________________________________________________________________\n",
      "conv2d_2 (Conv2D)               (None, 128, 128, 16) 2320        dropout_1[0][0]                  \n",
      "__________________________________________________________________________________________________\n",
      "max_pooling2d_1 (MaxPooling2D)  (None, 64, 64, 16)   0           conv2d_2[0][0]                   \n",
      "__________________________________________________________________________________________________\n",
      "conv2d_3 (Conv2D)               (None, 64, 64, 32)   4640        max_pooling2d_1[0][0]            \n",
      "__________________________________________________________________________________________________\n",
      "dropout_2 (Dropout)             (None, 64, 64, 32)   0           conv2d_3[0][0]                   \n",
      "__________________________________________________________________________________________________\n",
      "conv2d_4 (Conv2D)               (None, 64, 64, 32)   9248        dropout_2[0][0]                  \n",
      "__________________________________________________________________________________________________\n",
      "max_pooling2d_2 (MaxPooling2D)  (None, 32, 32, 32)   0           conv2d_4[0][0]                   \n",
      "__________________________________________________________________________________________________\n",
      "conv2d_5 (Conv2D)               (None, 32, 32, 64)   18496       max_pooling2d_2[0][0]            \n",
      "__________________________________________________________________________________________________\n",
      "dropout_3 (Dropout)             (None, 32, 32, 64)   0           conv2d_5[0][0]                   \n",
      "__________________________________________________________________________________________________\n",
      "conv2d_6 (Conv2D)               (None, 32, 32, 64)   36928       dropout_3[0][0]                  \n",
      "__________________________________________________________________________________________________\n",
      "max_pooling2d_3 (MaxPooling2D)  (None, 16, 16, 64)   0           conv2d_6[0][0]                   \n",
      "__________________________________________________________________________________________________\n",
      "conv2d_7 (Conv2D)               (None, 16, 16, 128)  73856       max_pooling2d_3[0][0]            \n",
      "__________________________________________________________________________________________________\n",
      "dropout_4 (Dropout)             (None, 16, 16, 128)  0           conv2d_7[0][0]                   \n",
      "__________________________________________________________________________________________________\n",
      "conv2d_8 (Conv2D)               (None, 16, 16, 128)  147584      dropout_4[0][0]                  \n",
      "__________________________________________________________________________________________________\n",
      "max_pooling2d_4 (MaxPooling2D)  (None, 8, 8, 128)    0           conv2d_8[0][0]                   \n",
      "__________________________________________________________________________________________________\n",
      "conv2d_9 (Conv2D)               (None, 8, 8, 256)    295168      max_pooling2d_4[0][0]            \n",
      "__________________________________________________________________________________________________\n",
      "dropout_5 (Dropout)             (None, 8, 8, 256)    0           conv2d_9[0][0]                   \n",
      "__________________________________________________________________________________________________\n",
      "conv2d_10 (Conv2D)              (None, 8, 8, 256)    590080      dropout_5[0][0]                  \n",
      "__________________________________________________________________________________________________\n",
      "conv2d_transpose_1 (Conv2DTrans (None, 16, 16, 128)  131200      conv2d_10[0][0]                  \n",
      "__________________________________________________________________________________________________\n",
      "concatenate_1 (Concatenate)     (None, 16, 16, 256)  0           conv2d_transpose_1[0][0]         \n",
      "                                                                 conv2d_8[0][0]                   \n",
      "__________________________________________________________________________________________________\n",
      "conv2d_11 (Conv2D)              (None, 16, 16, 128)  295040      concatenate_1[0][0]              \n",
      "__________________________________________________________________________________________________\n",
      "dropout_6 (Dropout)             (None, 16, 16, 128)  0           conv2d_11[0][0]                  \n",
      "__________________________________________________________________________________________________\n",
      "conv2d_12 (Conv2D)              (None, 16, 16, 128)  147584      dropout_6[0][0]                  \n",
      "__________________________________________________________________________________________________\n",
      "conv2d_transpose_2 (Conv2DTrans (None, 32, 32, 64)   32832       conv2d_12[0][0]                  \n",
      "__________________________________________________________________________________________________\n",
      "concatenate_2 (Concatenate)     (None, 32, 32, 128)  0           conv2d_transpose_2[0][0]         \n",
      "                                                                 conv2d_6[0][0]                   \n",
      "__________________________________________________________________________________________________\n",
      "conv2d_13 (Conv2D)              (None, 32, 32, 64)   73792       concatenate_2[0][0]              \n",
      "__________________________________________________________________________________________________\n",
      "dropout_7 (Dropout)             (None, 32, 32, 64)   0           conv2d_13[0][0]                  \n",
      "__________________________________________________________________________________________________\n",
      "conv2d_14 (Conv2D)              (None, 32, 32, 64)   36928       dropout_7[0][0]                  \n",
      "__________________________________________________________________________________________________\n",
      "conv2d_transpose_3 (Conv2DTrans (None, 64, 64, 32)   8224        conv2d_14[0][0]                  \n",
      "__________________________________________________________________________________________________\n",
      "concatenate_3 (Concatenate)     (None, 64, 64, 64)   0           conv2d_transpose_3[0][0]         \n",
      "                                                                 conv2d_4[0][0]                   \n",
      "__________________________________________________________________________________________________\n",
      "conv2d_15 (Conv2D)              (None, 64, 64, 32)   18464       concatenate_3[0][0]              \n",
      "__________________________________________________________________________________________________\n",
      "dropout_8 (Dropout)             (None, 64, 64, 32)   0           conv2d_15[0][0]                  \n",
      "__________________________________________________________________________________________________\n",
      "conv2d_16 (Conv2D)              (None, 64, 64, 32)   9248        dropout_8[0][0]                  \n",
      "__________________________________________________________________________________________________\n",
      "conv2d_transpose_4 (Conv2DTrans (None, 128, 128, 16) 2064        conv2d_16[0][0]                  \n",
      "__________________________________________________________________________________________________\n",
      "concatenate_4 (Concatenate)     (None, 128, 128, 32) 0           conv2d_transpose_4[0][0]         \n",
      "                                                                 conv2d_2[0][0]                   \n",
      "__________________________________________________________________________________________________\n",
      "conv2d_17 (Conv2D)              (None, 128, 128, 16) 4624        concatenate_4[0][0]              \n",
      "__________________________________________________________________________________________________\n",
      "dropout_9 (Dropout)             (None, 128, 128, 16) 0           conv2d_17[0][0]                  \n",
      "__________________________________________________________________________________________________\n",
      "conv2d_18 (Conv2D)              (None, 128, 128, 16) 2320        dropout_9[0][0]                  \n",
      "__________________________________________________________________________________________________\n",
      "conv2d_19 (Conv2D)              (None, 128, 128, 1)  17          conv2d_18[0][0]                  \n",
      "==================================================================================================\n",
      "Total params: 1,941,105\n",
      "Trainable params: 1,941,105\n",
      "Non-trainable params: 0\n",
      "__________________________________________________________________________________________________\n"
     ]
    }
   ],
   "source": [
    "un = unet()\n",
    "un.compile(optimizer='adam', loss='binary_crossentropy', metrics=[mean_iou])\n",
    "un.summary()"
   ]
  },
  {
   "cell_type": "code",
   "execution_count": 13,
   "metadata": {},
   "outputs": [
    {
     "name": "stdout",
     "output_type": "stream",
     "text": [
      "WARNING:tensorflow:From /usr/local/lib/python3.6/dist-packages/keras/backend/tensorflow_backend.py:422: The name tf.global_variables is deprecated. Please use tf.compat.v1.global_variables instead.\n",
      "\n",
      "Train on 288 samples, validate on 32 samples\n",
      "Epoch 1/50\n",
      "288/288 [==============================] - 33s 115ms/step - loss: 0.2501 - mean_iou: 0.4480 - val_loss: 0.1405 - val_mean_iou: 0.4833\n",
      "\n",
      "Epoch 00001: val_loss improved from inf to 0.14052, saving model to ../data/model.h5\n",
      "Epoch 2/50\n",
      "288/288 [==============================] - 31s 107ms/step - loss: 0.0776 - mean_iou: 0.4878 - val_loss: 0.1222 - val_mean_iou: 0.4904\n",
      "\n",
      "Epoch 00002: val_loss improved from 0.14052 to 0.12224, saving model to ../data/model.h5\n",
      "Epoch 3/50\n",
      "288/288 [==============================] - 34s 119ms/step - loss: 0.0613 - mean_iou: 0.4915 - val_loss: 0.1065 - val_mean_iou: 0.4923\n",
      "\n",
      "Epoch 00003: val_loss improved from 0.12224 to 0.10654, saving model to ../data/model.h5\n",
      "Epoch 4/50\n",
      "288/288 [==============================] - 44s 153ms/step - loss: 0.0569 - mean_iou: 0.4927 - val_loss: 0.1361 - val_mean_iou: 0.4930\n",
      "\n",
      "Epoch 00004: val_loss did not improve from 0.10654\n",
      "Epoch 5/50\n",
      "288/288 [==============================] - 40s 141ms/step - loss: 0.0522 - mean_iou: 0.4931 - val_loss: 0.1315 - val_mean_iou: 0.4933\n",
      "\n",
      "Epoch 00005: val_loss did not improve from 0.10654\n",
      "Epoch 6/50\n",
      "288/288 [==============================] - 42s 145ms/step - loss: 0.0513 - mean_iou: 0.4934 - val_loss: 0.0884 - val_mean_iou: 0.4935\n",
      "\n",
      "Epoch 00006: val_loss improved from 0.10654 to 0.08837, saving model to ../data/model.h5\n",
      "Epoch 7/50\n",
      "288/288 [==============================] - 40s 138ms/step - loss: 0.0484 - mean_iou: 0.4936 - val_loss: 0.1029 - val_mean_iou: 0.4936\n",
      "\n",
      "Epoch 00007: val_loss did not improve from 0.08837\n",
      "Epoch 8/50\n",
      "288/288 [==============================] - 41s 143ms/step - loss: 0.0476 - mean_iou: 0.4937 - val_loss: 0.0808 - val_mean_iou: 0.4937\n",
      "\n",
      "Epoch 00008: val_loss improved from 0.08837 to 0.08084, saving model to ../data/model.h5\n",
      "Epoch 9/50\n",
      "288/288 [==============================] - 44s 152ms/step - loss: 0.0504 - mean_iou: 0.4937 - val_loss: 0.0940 - val_mean_iou: 0.4937\n",
      "\n",
      "Epoch 00009: val_loss did not improve from 0.08084\n",
      "Epoch 10/50\n",
      "288/288 [==============================] - 42s 146ms/step - loss: 0.0467 - mean_iou: 0.4938 - val_loss: 0.0875 - val_mean_iou: 0.4938\n",
      "\n",
      "Epoch 00010: val_loss did not improve from 0.08084\n",
      "Epoch 11/50\n",
      "288/288 [==============================] - 45s 156ms/step - loss: 0.0462 - mean_iou: 0.4937 - val_loss: 0.0903 - val_mean_iou: 0.4938\n",
      "\n",
      "Epoch 00011: val_loss did not improve from 0.08084\n",
      "Epoch 12/50\n",
      "288/288 [==============================] - 42s 145ms/step - loss: 0.0449 - mean_iou: 0.4938 - val_loss: 0.1028 - val_mean_iou: 0.4938\n",
      "\n",
      "Epoch 00012: val_loss did not improve from 0.08084\n",
      "Epoch 13/50\n",
      "288/288 [==============================] - 42s 146ms/step - loss: 0.0441 - mean_iou: 0.4938 - val_loss: 0.0914 - val_mean_iou: 0.4938\n",
      "\n",
      "Epoch 00013: val_loss did not improve from 0.08084\n",
      "Epoch 00013: early stopping\n"
     ]
    }
   ],
   "source": [
    "# Fit model\n",
    "earlystopper = EarlyStopping(patience=5, verbose=1)\n",
    "checkpointer = ModelCheckpoint('../data/model.h5', verbose=1, save_best_only=True)\n",
    "\n",
    "results = un.fit(x_train, y_train, validation_split=0.1, batch_size=16, epochs=50, \n",
    "                    callbacks=[earlystopper, checkpointer])"
   ]
  },
  {
   "cell_type": "code",
   "execution_count": 14,
   "metadata": {},
   "outputs": [
    {
     "name": "stdout",
     "output_type": "stream",
     "text": [
      "[0.14052464812994003, 0.12223782017827034, 0.10654497146606445, 0.1361057013273239, 0.13153418898582458, 0.08837264031171799, 0.10286560282111168, 0.08084146678447723, 0.09395177662372589, 0.08753795921802521, 0.09033962897956371, 0.10284292325377464, 0.09137681499123573]\n",
      "[0.4833352267742157, 0.4904347062110901, 0.49225562810897827, 0.4929850697517395, 0.49333661794662476, 0.49352601170539856, 0.4936349093914032, 0.4937000274658203, 0.4937395751476288, 0.49376362562179565, 0.493777871131897, 0.4937857389450073, 0.4937893748283386]\n",
      "[0.25008749465147656, 0.07759130001068115, 0.061328132119443685, 0.05688512677119838, 0.0521601467496819, 0.05129236376119985, 0.04838117563890086, 0.04756065602931711, 0.05044813495543268, 0.04666031669411394, 0.046234886886345014, 0.04493240422258774, 0.0441060538093249]\n",
      "[0.44803804, 0.48781574, 0.49151325, 0.49266657, 0.4931321, 0.4934033, 0.49360582, 0.4936584, 0.49370256, 0.49375078, 0.49374306, 0.4937625, 0.49379158]\n"
     ]
    }
   ],
   "source": [
    "print(results.history['val_loss'])\n",
    "print(results.history['val_mean_iou'])\n",
    "print(results.history['loss'])\n",
    "print(results.history['mean_iou'])"
   ]
  },
  {
   "cell_type": "code",
   "execution_count": 15,
   "metadata": {},
   "outputs": [
    {
     "name": "stdout",
     "output_type": "stream",
     "text": [
      "288/288 [==============================] - 10s 33ms/step\n",
      "32/32 [==============================] - 1s 33ms/step\n",
      "80/80 [==============================] - 2s 30ms/step\n"
     ]
    }
   ],
   "source": [
    "#un = load_model('../data/model.h5', custom_objects={'mean_iou': mean_iou})\n",
    "preds_train = un.predict(x_train[:int(x_train.shape[0]*0.9)], verbose=1)\n",
    "preds_val   = un.predict(x_train[int(x_train.shape[0]*0.9):], verbose=1)\n",
    "preds_test  = un.predict(x_test, verbose=1)\n",
    "\n",
    "# Threshold predictions\n",
    "preds_train_t = (preds_train > 0.5).astype(np.uint8)\n",
    "preds_val_t = (preds_val > 0.5).astype(np.uint8)\n",
    "preds_test_t = (preds_test > 0.5).astype(np.uint8)"
   ]
  },
  {
   "cell_type": "code",
   "execution_count": 20,
   "metadata": {},
   "outputs": [
    {
     "name": "stdout",
     "output_type": "stream",
     "text": [
      "0.27205384\n",
      "0.0\n",
      "0.12605477988861\n",
      "0.12605477988861\n"
     ]
    }
   ],
   "source": [
    "print(preds_train.max())\n",
    "print(preds_train.min())\n",
    "\n",
    "print(x_train[0].max())\n",
    "print(x_train[0].max())"
   ]
  },
  {
   "cell_type": "code",
   "execution_count": 16,
   "metadata": {},
   "outputs": [
    {
     "data": {
      "image/png": "[encoded data removed]",
      "text/plain": [
       "<Figure size 432x288 with 1 Axes>"
      ]
     },
     "metadata": {
      "needs_background": "light"
     },
     "output_type": "display_data"
    },
    {
     "data": {
      "image/png": "[encoded data removed]",
      "text/plain": [
       "<Figure size 432x288 with 1 Axes>"
      ]
     },
     "metadata": {
      "needs_background": "light"
     },
     "output_type": "display_data"
    },
    {
     "data": {
      "image/png": "[encoded data removed]",
      "text/plain": [
       "<Figure size 432x288 with 1 Axes>"
      ]
     },
     "metadata": {
      "needs_background": "light"
     },
     "output_type": "display_data"
    }
   ],
   "source": [
    "ix = np.random.randint(0, len(preds_train_t))\n",
    "\n",
    "plt.imshow(x_train[ix][:,:,0])\n",
    "plt.show()\n",
    "\n",
    "plt.imshow(np.squeeze(y_train[ix]))\n",
    "plt.show()\n",
    "\n",
    "plt.imshow(np.squeeze(preds_train_t[ix][:,:,0]))\n",
    "plt.show()"
   ]
  }
 ],
 "metadata": {
  "kernelspec": {
   "display_name": "Python 3",
   "language": "python",
   "name": "python3"
  },
  "language_info": {
   "codemirror_mode": {
    "name": "ipython",
    "version": 3
   },
   "file_extension": ".py",
   "mimetype": "text/x-python",
   "name": "python",
   "nbconvert_exporter": "python",
   "pygments_lexer": "ipython3",
   "version": "3.6.9"
  }
 },
 "nbformat": 4,
 "nbformat_minor": 2
}
